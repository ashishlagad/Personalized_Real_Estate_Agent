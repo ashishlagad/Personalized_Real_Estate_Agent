{
 "cells": [
  {
   "cell_type": "code",
   "execution_count": 94,
   "id": "9e455b6d-d439-4304-ba4a-730302caa081",
   "metadata": {
    "scrolled": true
   },
   "outputs": [],
   "source": [
    "import os\n",
    "import pandas as pd\n",
    "from langchain_openai import ChatOpenAI\n",
    "from langchain.output_parsers import PydanticOutputParser\n",
    "from langchain.prompts import PromptTemplate\n",
    "from pydantic import BaseModel, Field, NonNegativeInt\n",
    "from typing import List\n",
    "from fastapi.encoders import jsonable_encoder"
   ]
  },
  {
   "cell_type": "code",
   "execution_count": 197,
   "id": "e741ea10-a2bf-44c8-a5bd-fe1b05374765",
   "metadata": {},
   "outputs": [],
   "source": [
    "OPEN_API_KEY = \"YOUR_API_KEY\"\n",
    "BASE_URL = \"https://openai.vocareum.com/v1\"\n",
    "GPT_MODEL = \"gpt-4o-mini-2024-07-18\""
   ]
  },
  {
   "cell_type": "code",
   "execution_count": 188,
   "id": "f91dced5-ff27-4d09-a90d-a6603dc744d0",
   "metadata": {},
   "outputs": [],
   "source": [
    "llm = ChatOpenAI(model=GPT_MODEL, temperature=0, base_url = BASE_URL, api_key = OPEN_API_KEY)\n",
    "\n",
    "task = \"Generate twenty diverse real estate listings.\"\n",
    "sample_listing = '''\n",
    "Sample Listing : \n",
    "\n",
    "Neighborhood: Green Oaks\n",
    "Price: $800000\n",
    "Bedrooms: 3\n",
    "Bathrooms: 2\n",
    "House Size: 2000 sqft\n",
    "\n",
    "Description: Welcome to this eco-friendly oasis nestled in the heart of Green Oaks. This charming 3-bedroom, 2-bathroom home boasts energy-efficient features such as solar panels and a well-insulated structure. Natural light floods the living spaces, highlighting the beautiful hardwood floors and eco-conscious finishes. The open-concept kitchen and dining area lead to a spacious backyard with a vegetable garden, perfect for the eco-conscious family. Embrace sustainable living without compromising on style in this Green Oaks gem.\n",
    "\n",
    "Neighborhood Description: Green Oaks is a close-knit, environmentally-conscious community with access to organic grocery stores, community gardens, and bike paths. Take a stroll through the nearby Green Oaks Park or grab a cup of coffee at the cozy Green Bean Cafe. With easy access to public transportation and bike lanes, commuting is a breeze.\n",
    "'''\n"
   ]
  },
  {
   "cell_type": "code",
   "execution_count": 189,
   "id": "a39dc49c-be79-42b1-aaa1-6f15b847d6b6",
   "metadata": {},
   "outputs": [],
   "source": [
    "class RealEstateListing(BaseModel):\n",
    "    neighborhood: str = Field(description=\"The name of the neighborhood where the property is located\")\n",
    "    price: NonNegativeInt = Field(description=\"Price of the property in USD\")\n",
    "    bedrooms: NonNegativeInt = Field(description=\"Number of bedrooms in the property\")\n",
    "    bathrooms: NonNegativeInt = Field(description=\"Number of bathrooms in the property\")\n",
    "    house_size: NonNegativeInt = Field(description=\"Size of the property in square feet\")\n",
    "    description: str = Field(description=\"Description of the property\")\n",
    "    neighborhood_description: str = Field(description=\"Description of the neighborhood\")\n",
    "\n",
    "class ListingsCollection(BaseModel):\n",
    "    listings: List[RealEstateListing] = Field(description=\"List of Real Estate Listings\")\n",
    "\n",
    "parser = PydanticOutputParser(pydantic_object=ListingsCollection)"
   ]
  },
  {
   "cell_type": "code",
   "execution_count": 190,
   "id": "5cab6504-c5b8-424b-bce4-bf96b98661b1",
   "metadata": {},
   "outputs": [
    {
     "name": "stdout",
     "output_type": "stream",
     "text": [
      "Generate twenty diverse real estate listings.\n",
      "\n",
      "Sample Listing : \n",
      "\n",
      "Neighborhood: Green Oaks\n",
      "Price: $800000\n",
      "Bedrooms: 3\n",
      "Bathrooms: 2\n",
      "House Size: 2000 sqft\n",
      "\n",
      "Description: Welcome to this eco-friendly oasis nestled in the heart of Green Oaks. This charming 3-bedroom, 2-bathroom home boasts energy-efficient features such as solar panels and a well-insulated structure. Natural light floods the living spaces, highlighting the beautiful hardwood floors and eco-conscious finishes. The open-concept kitchen and dining area lead to a spacious backyard with a vegetable garden, perfect for the eco-conscious family. Embrace sustainable living without compromising on style in this Green Oaks gem.\n",
      "\n",
      "Neighborhood Description: Green Oaks is a close-knit, environmentally-conscious community with access to organic grocery stores, community gardens, and bike paths. Take a stroll through the nearby Green Oaks Park or grab a cup of coffee at the cozy Green Bean Cafe. With easy access to public transportation and bike lanes, commuting is a breeze.\n",
      "\n",
      "\n",
      "The output should be formatted as a JSON instance that conforms to the JSON schema below.\n",
      "\n",
      "As an example, for the schema {\"properties\": {\"foo\": {\"title\": \"Foo\", \"description\": \"a list of strings\", \"type\": \"array\", \"items\": {\"type\": \"string\"}}}, \"required\": [\"foo\"]}\n",
      "the object {\"foo\": [\"bar\", \"baz\"]} is a well-formatted instance of the schema. The object {\"properties\": {\"foo\": [\"bar\", \"baz\"]}} is not well-formatted.\n",
      "\n",
      "Here is the output schema:\n",
      "```\n",
      "{\"$defs\": {\"RealEstateListing\": {\"properties\": {\"neighborhood\": {\"description\": \"The name of the neighborhood where the property is located\", \"title\": \"Neighborhood\", \"type\": \"string\"}, \"price\": {\"description\": \"Price of the property in USD\", \"minimum\": 0, \"title\": \"Price\", \"type\": \"integer\"}, \"bedrooms\": {\"description\": \"Number of bedrooms in the property\", \"minimum\": 0, \"title\": \"Bedrooms\", \"type\": \"integer\"}, \"bathrooms\": {\"description\": \"Number of bathrooms in the property\", \"minimum\": 0, \"title\": \"Bathrooms\", \"type\": \"integer\"}, \"house_size\": {\"description\": \"Size of the property in square feet\", \"minimum\": 0, \"title\": \"House Size\", \"type\": \"integer\"}, \"description\": {\"description\": \"Description of the property\", \"title\": \"Description\", \"type\": \"string\"}, \"neighborhood_description\": {\"description\": \"Description of the neighborhood\", \"title\": \"Neighborhood Description\", \"type\": \"string\"}}, \"required\": [\"neighborhood\", \"price\", \"bedrooms\", \"bathrooms\", \"house_size\", \"description\", \"neighborhood_description\"], \"title\": \"RealEstateListing\", \"type\": \"object\"}}, \"properties\": {\"listings\": {\"description\": \"List of Real Estate Listings\", \"items\": {\"$ref\": \"#/$defs/RealEstateListing\"}, \"title\": \"Listings\", \"type\": \"array\"}}, \"required\": [\"listings\"]}\n",
      "```\n"
     ]
    }
   ],
   "source": [
    "prompt = PromptTemplate(\n",
    "    template=\"{task}\\n{sample_listing}\\n\\n{format_instructions}\",\n",
    "    input_variables=[\"task, sample_listing\"],\n",
    "    partial_variables={\"format_instructions\": parser.get_format_instructions},\n",
    ")\n",
    "query = prompt.format(task=task, sample_listing=sample_listing)\n",
    "print(query)"
   ]
  },
  {
   "cell_type": "code",
   "execution_count": 191,
   "id": "44b78a83-7df9-4f44-9538-a7b40d96db42",
   "metadata": {},
   "outputs": [],
   "source": [
    "response = llm(query)"
   ]
  },
  {
   "cell_type": "code",
   "execution_count": 195,
   "id": "f01d019f-8a9c-483a-8436-1b0311a96e2c",
   "metadata": {},
   "outputs": [
    {
     "data": {
      "text/html": [
       "<div>\n",
       "<style scoped>\n",
       "    .dataframe tbody tr th:only-of-type {\n",
       "        vertical-align: middle;\n",
       "    }\n",
       "\n",
       "    .dataframe tbody tr th {\n",
       "        vertical-align: top;\n",
       "    }\n",
       "\n",
       "    .dataframe thead th {\n",
       "        text-align: right;\n",
       "    }\n",
       "</style>\n",
       "<table border=\"1\" class=\"dataframe\">\n",
       "  <thead>\n",
       "    <tr style=\"text-align: right;\">\n",
       "      <th></th>\n",
       "      <th>neighborhood</th>\n",
       "      <th>price</th>\n",
       "      <th>bedrooms</th>\n",
       "      <th>bathrooms</th>\n",
       "      <th>house_size</th>\n",
       "      <th>description</th>\n",
       "      <th>neighborhood_description</th>\n",
       "    </tr>\n",
       "  </thead>\n",
       "  <tbody>\n",
       "    <tr>\n",
       "      <th>0</th>\n",
       "      <td>Green Oaks</td>\n",
       "      <td>800000</td>\n",
       "      <td>3</td>\n",
       "      <td>2</td>\n",
       "      <td>2000</td>\n",
       "      <td>Welcome to this eco-friendly oasis nestled in ...</td>\n",
       "      <td>Green Oaks is a close-knit, environmentally-co...</td>\n",
       "    </tr>\n",
       "    <tr>\n",
       "      <th>1</th>\n",
       "      <td>Downtown Heights</td>\n",
       "      <td>1200000</td>\n",
       "      <td>2</td>\n",
       "      <td>2</td>\n",
       "      <td>1500</td>\n",
       "      <td>Experience urban living at its finest in this ...</td>\n",
       "      <td>Downtown Heights is a vibrant urban area fille...</td>\n",
       "    </tr>\n",
       "    <tr>\n",
       "      <th>2</th>\n",
       "      <td>Sunnyvale</td>\n",
       "      <td>650000</td>\n",
       "      <td>4</td>\n",
       "      <td>3</td>\n",
       "      <td>2500</td>\n",
       "      <td>This spacious 4-bedroom, 3-bathroom home in Su...</td>\n",
       "      <td>Sunnyvale is known for its family-friendly atm...</td>\n",
       "    </tr>\n",
       "    <tr>\n",
       "      <th>3</th>\n",
       "      <td>Lakeside</td>\n",
       "      <td>950000</td>\n",
       "      <td>5</td>\n",
       "      <td>4</td>\n",
       "      <td>3200</td>\n",
       "      <td>Discover luxury living in this stunning 5-bedr...</td>\n",
       "      <td>Lakeside is a picturesque community known for ...</td>\n",
       "    </tr>\n",
       "    <tr>\n",
       "      <th>4</th>\n",
       "      <td>Maplewood</td>\n",
       "      <td>450000</td>\n",
       "      <td>3</td>\n",
       "      <td>2</td>\n",
       "      <td>1800</td>\n",
       "      <td>Charming 3-bedroom, 2-bathroom home in Maplewo...</td>\n",
       "      <td>Maplewood is a quiet, suburban neighborhood wi...</td>\n",
       "    </tr>\n",
       "  </tbody>\n",
       "</table>\n",
       "</div>"
      ],
      "text/plain": [
       "       neighborhood    price  bedrooms  bathrooms  house_size  \\\n",
       "0        Green Oaks   800000         3          2        2000   \n",
       "1  Downtown Heights  1200000         2          2        1500   \n",
       "2         Sunnyvale   650000         4          3        2500   \n",
       "3          Lakeside   950000         5          4        3200   \n",
       "4         Maplewood   450000         3          2        1800   \n",
       "\n",
       "                                         description  \\\n",
       "0  Welcome to this eco-friendly oasis nestled in ...   \n",
       "1  Experience urban living at its finest in this ...   \n",
       "2  This spacious 4-bedroom, 3-bathroom home in Su...   \n",
       "3  Discover luxury living in this stunning 5-bedr...   \n",
       "4  Charming 3-bedroom, 2-bathroom home in Maplewo...   \n",
       "\n",
       "                            neighborhood_description  \n",
       "0  Green Oaks is a close-knit, environmentally-co...  \n",
       "1  Downtown Heights is a vibrant urban area fille...  \n",
       "2  Sunnyvale is known for its family-friendly atm...  \n",
       "3  Lakeside is a picturesque community known for ...  \n",
       "4  Maplewood is a quiet, suburban neighborhood wi...  "
      ]
     },
     "execution_count": 195,
     "metadata": {},
     "output_type": "execute_result"
    }
   ],
   "source": [
    "result = parser.parse(response.content)\n",
    "df = pd.DataFrame(jsonable_encoder(result.listings))\n",
    "df.head()"
   ]
  },
  {
   "cell_type": "code",
   "execution_count": 196,
   "id": "354e63bc-38a0-4fa0-abc5-58350cd431ce",
   "metadata": {},
   "outputs": [],
   "source": [
    "df.to_csv('listings.csv',index_label = 'id')"
   ]
  },
  {
   "cell_type": "code",
   "execution_count": null,
   "id": "aea68339-245f-4db3-b444-48814e3227a4",
   "metadata": {},
   "outputs": [],
   "source": []
  },
  {
   "cell_type": "code",
   "execution_count": null,
   "id": "a744f659-deda-48e0-ac45-d85d3fc63b9f",
   "metadata": {},
   "outputs": [],
   "source": []
  },
  {
   "cell_type": "code",
   "execution_count": null,
   "id": "9755708c-8fa6-4b7d-a09f-4deb78658157",
   "metadata": {},
   "outputs": [],
   "source": []
  }
 ],
 "metadata": {
  "kernelspec": {
   "display_name": "Python 3 (ipykernel)",
   "language": "python",
   "name": "python3"
  },
  "language_info": {
   "codemirror_mode": {
    "name": "ipython",
    "version": 3
   },
   "file_extension": ".py",
   "mimetype": "text/x-python",
   "name": "python",
   "nbconvert_exporter": "python",
   "pygments_lexer": "ipython3",
   "version": "3.11.10"
  }
 },
 "nbformat": 4,
 "nbformat_minor": 5
}
